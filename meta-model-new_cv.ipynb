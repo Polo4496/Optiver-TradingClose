{
 "cells": [
  {
   "cell_type": "markdown",
   "metadata": {
    "papermill": {
     "duration": 0.014282,
     "end_time": "2023-06-03T01:46:16.695936",
     "exception": false,
     "start_time": "2023-06-03T01:46:16.681654",
     "status": "completed"
    },
    "tags": []
   },
   "source": [
    "### Loading Libraries and Datasets"
   ]
  },
  {
   "cell_type": "code",
   "execution_count": 1,
   "metadata": {
    "_kg_hide-input": false,
    "_kg_hide-output": true,
    "execution": {
     "iopub.execute_input": "2023-09-24T09:43:44.600967Z",
     "iopub.status.busy": "2023-09-24T09:43:44.600229Z",
     "iopub.status.idle": "2023-09-24T09:43:50.495944Z",
     "shell.execute_reply": "2023-09-24T09:43:50.494498Z",
     "shell.execute_reply.started": "2023-09-24T09:43:44.600930Z"
    },
    "papermill": {
     "duration": 4.795021,
     "end_time": "2023-06-03T01:46:36.791162",
     "exception": false,
     "start_time": "2023-06-03T01:46:31.996141",
     "status": "completed"
    },
    "tags": []
   },
   "outputs": [],
   "source": [
    "import numpy as np\n",
    "import pandas as pd\n",
    "import plotly_express as px\n",
    "\n",
    "from sklearn import set_config\n",
    "from sklearn.base import clone\n",
    "from sklearn.preprocessing import FunctionTransformer\n",
    "from sklearn.pipeline import make_pipeline\n",
    "from sklearn.metrics import mean_absolute_error\n",
    "from lightgbm import LGBMRegressor\n",
    "from catboost import CatBoostRegressor\n",
    "from sklearn.model_selection import KFold\n",
    "from sklearn.model_selection import train_test_split\n",
    "\n",
    "pd.set_option('display.max_rows', 100)\n",
    "set_config(transform_output = 'pandas')\n",
    "pd.options.mode.chained_assignment = None"
   ]
  },
  {
   "cell_type": "code",
   "execution_count": 22,
   "metadata": {
    "_kg_hide-output": true,
    "execution": {
     "iopub.execute_input": "2023-09-24T09:43:50.500527Z",
     "iopub.status.busy": "2023-09-24T09:43:50.499127Z",
     "iopub.status.idle": "2023-09-24T09:44:16.378234Z",
     "shell.execute_reply": "2023-09-24T09:44:16.376885Z",
     "shell.execute_reply.started": "2023-09-24T09:43:50.500463Z"
    }
   },
   "outputs": [],
   "source": [
    "data = pd.read_csv(\"train.csv\")\n",
    "medianVol = pd.read_csv(\"medianVolV2.csv\")\n",
    "data = data.merge(medianVol, how = \"left\", on = \"stock_id\")\n",
    "seed = 42"
   ]
  },
  {
   "cell_type": "markdown",
   "metadata": {},
   "source": [
    "### Cross-Validation"
   ]
  },
  {
   "cell_type": "code",
   "execution_count": 38,
   "metadata": {},
   "outputs": [],
   "source": [
    "cv = KFold(n_splits=10)\n",
    "\n",
    "def cross_val_score(estimatorConstructor, X, y, cv = cv, split=False):\n",
    "    #train_predictions = np.zeros((len(sample)))\n",
    "    train_scores, val_scores = [], []\n",
    "    \n",
    "    #training model, predicting prognosis probability, and evaluating metrics   \n",
    "    for fold, (train_idx, val_idx) in enumerate(cv.split(X, y)):\n",
    "        \n",
    "        model = estimatorConstructor()\n",
    "        \n",
    "        #define train set\n",
    "        X_train = X.iloc[train_idx]\n",
    "        y_train = y.iloc[train_idx]\n",
    "        \n",
    "        #define validation set\n",
    "        X_val = X.iloc[val_idx]\n",
    "        y_val = y.iloc[val_idx]\n",
    "        \n",
    "        if split:\n",
    "            # BEFORE\n",
    "            X_bef = X_train[X_train['near_price'].isna()]\n",
    "            y_bef = y_train[y_train.index.isin(X_bef.index)]\n",
    "            \n",
    "            model_bef = MetaModel()\n",
    "            model_bef.fit(X_bef, y_bef)\n",
    "            models.append(model_bef)\n",
    "            \n",
    "            X_bef_test = X_val[X_val['near_price'].isna()]\n",
    "            y_bef_test = y_val[y_val.index.isin(X_bef_test.index)]\n",
    "\n",
    "            pred_bef = model_bef.predict(X_bef_test)\n",
    "            mae_bef = mean_absolute_error(y_bef_test, pred_bef)\n",
    "            \n",
    "            # AFTER\n",
    "            X_aft = X_train[~X_train['near_price'].isna()]\n",
    "            y_aft = y_train[y_train.index.isin(X_aft.index)]\n",
    "            \n",
    "            model_aft = MetaModel()\n",
    "            model_aft.fit(X_aft, y_aft)\n",
    "            models.append(model_aft)\n",
    "\n",
    "            X_aft_test = X_val[~X_val['near_price'].isna()]\n",
    "            y_aft_test = y_val[y_val.index.isin(X_aft_test.index)]\n",
    "\n",
    "            pred_aft = model_aft.predict(X_aft_test)\n",
    "            mae_aft = mean_absolute_error(y_aft_test, pred_aft)\n",
    "            \n",
    "            val_score = (mae_bef * len(y_bef_test) + mae_aft * len(y_aft_test))/len(y_val)\n",
    "        \n",
    "        else:\n",
    "            model.fit(X_train, y_train)\n",
    "            models.append(model)\n",
    "        \n",
    "            val_preds = model.predict(X_val)\n",
    "            val_score = mean_absolute_error(y_val, val_preds)\n",
    "        \n",
    "        print(\"Fold\", fold, \"Val MAE:\", val_score)\n",
    "        val_scores.append(val_score)\n",
    "    \n",
    "    print(f'Val Score: {np.mean(val_scores):.5f} ± {np.std(val_scores):.5f}')\n",
    "    \n",
    "    return val_scores"
   ]
  },
  {
   "cell_type": "markdown",
   "metadata": {},
   "source": [
    "### Model"
   ]
  },
  {
   "cell_type": "code",
   "execution_count": 33,
   "metadata": {
    "execution": {
     "iopub.execute_input": "2023-09-24T09:44:44.962033Z",
     "iopub.status.busy": "2023-09-24T09:44:44.961514Z",
     "iopub.status.idle": "2023-09-24T09:44:44.977754Z",
     "shell.execute_reply": "2023-09-24T09:44:44.976315Z",
     "shell.execute_reply.started": "2023-09-24T09:44:44.961984Z"
    }
   },
   "outputs": [],
   "source": [
    "from sklearn.preprocessing import OneHotEncoder\n",
    "from catboost import CatBoostClassifier\n",
    "\n",
    "class MetaModel : \n",
    "    def __init__(self):\n",
    "        self.firstLayerMethods = [\n",
    "            {\n",
    "                \"type\":\"LGBMR\",\n",
    "                \"model\":LGBMRegressor(random_state=seed, objective=\"mae\", verbose=0, n_estimators=50, device='GPU')\n",
    "            },\n",
    "            {\n",
    "                \"type\":\"catboost\",\n",
    "                \"model\":CatBoostRegressor(random_seed=seed, objective=\"MAE\", n_estimators=50, verbose=0)\n",
    "            }\n",
    "        ]\n",
    "        \n",
    "        self.firstLayerSelector = LGBMRegressor(random_state=seed, objective=\"mae\", verbose=0, n_estimators=100, device='GPU')\n",
    "        \n",
    "        return\n",
    "    \n",
    "    def fit(self, X, y):\n",
    "        firstLayerPredictions = []\n",
    "\n",
    "        for i, method in enumerate(self.firstLayerMethods):\n",
    "            type, model = method.values()\n",
    "            print(\"Training \", type)\n",
    "            model.fit(X, y)\n",
    "            firstLayerPredictions.append(model.predict(X))\n",
    "        \n",
    "        print(\"Training first layer selector\")\n",
    "        \n",
    "        # y = a*x + b*z -> a = (y-z)/(x-z)\n",
    "        a = (y-firstLayerPredictions[1])/(firstLayerPredictions[0]-firstLayerPredictions[1])\n",
    "        a = np.where(a > 1, 1, a)\n",
    "        a = np.where(a < 0, 0, a)\n",
    "        \n",
    "        self.firstLayerSelector.fit(X, a)\n",
    "        \n",
    "        self.y_m = y.mean()\n",
    "        \n",
    "        return\n",
    "\n",
    "    def predict(self, X):\n",
    "        firstLayerPredictions = []\n",
    "        for i, method in enumerate(self.firstLayerMethods):\n",
    "            type, model = method.values()\n",
    "            firstLayerPredictions.append(model.predict(X))\n",
    "        \n",
    "        a = self.firstLayerSelector.predict(X)\n",
    "        \n",
    "        firstLayerSelection = np.array([a, 1-a]).T\n",
    "        firstLayerPredictions = np.array(firstLayerPredictions).T\n",
    "        \n",
    "        prediction = (firstLayerPredictions * firstLayerSelection).sum(axis=1)\n",
    "        \n",
    "        # Mean change\n",
    "        prediction += self.y_m - np.mean(prediction)\n",
    "        \n",
    "        return prediction"
   ]
  },
  {
   "cell_type": "code",
   "execution_count": 26,
   "metadata": {},
   "outputs": [],
   "source": [
    "def generate_features(df):\n",
    "    features = ['seconds_in_bucket', 'imbalance_buy_sell_flag',\n",
    "                'imbalance_size', 'matched_size', 'bid_size', 'ask_size',\n",
    "                'reference_price','far_price', 'near_price', 'ask_price', 'bid_price', 'wap',\n",
    "                'imb_s1', 'imb_s2', 'overall_medvol', 'first5min_medvol', 'last5min_medvol']\n",
    "    \n",
    "    df['imb_s1'] = df.eval('(bid_size-ask_size)/(bid_size+ask_size)')\n",
    "    df['imb_s2'] = df.eval('(imbalance_size-matched_size)/(matched_size+imbalance_size)')\n",
    "    \n",
    "    df['mid_price'] = (df['ask_price'] + df['bid_price']) / 2\n",
    "    \n",
    "    prices = ['reference_price','far_price', 'near_price', 'ask_price', 'bid_price', 'wap', 'mid_price']\n",
    "    \n",
    "    for i,a in enumerate(prices):\n",
    "        for j,b in enumerate(prices):\n",
    "            if i>j:\n",
    "                df[f'{a}_{b}_imb'] = df.eval(f'({a}-{b})/({a}+{b})')\n",
    "                features.append(f'{a}_{b}_imb')    \n",
    "                    \n",
    "    for i,a in enumerate(prices):\n",
    "        for j,b in enumerate(prices):\n",
    "            for k,c in enumerate(prices):\n",
    "                if i>j and j>k:\n",
    "                    max_ = df[[a,b,c]].max(axis=1)\n",
    "                    min_ = df[[a,b,c]].min(axis=1)\n",
    "                    mid_ = df[[a,b,c]].sum(axis=1)-min_-max_\n",
    "\n",
    "                    df[f'{a}_{b}_{c}_imb2'] = (max_-mid_)/(mid_-min_)\n",
    "                    features.append(f'{a}_{b}_{c}_imb2')\n",
    "    \n",
    "    return df[features]"
   ]
  },
  {
   "cell_type": "markdown",
   "metadata": {},
   "source": [
    "### Performance"
   ]
  },
  {
   "cell_type": "code",
   "execution_count": 27,
   "metadata": {},
   "outputs": [],
   "source": [
    "X = data[~data.target.isna()]\n",
    "y = X.pop('target')\n",
    "X = generate_features(X)"
   ]
  },
  {
   "cell_type": "code",
   "execution_count": 139,
   "metadata": {
    "execution": {
     "iopub.execute_input": "2023-09-24T09:44:16.976121Z",
     "iopub.status.busy": "2023-09-24T09:44:16.975307Z",
     "iopub.status.idle": "2023-09-24T09:44:21.096939Z",
     "shell.execute_reply": "2023-09-24T09:44:21.095642Z",
     "shell.execute_reply.started": "2023-09-24T09:44:16.976089Z"
    },
    "scrolled": false
   },
   "outputs": [
    {
     "name": "stdout",
     "output_type": "stream",
     "text": [
      "Training  LGBMR\n",
      "Training  catboost\n",
      "Training first layer selector\n",
      "MAE: 6.256956064248925\n"
     ]
    }
   ],
   "source": [
    "X_train, X_test, y_train, y_test = train_test_split(X, y, test_size=0.33, random_state=42)\n",
    "\n",
    "split = False\n",
    "\n",
    "if split:\n",
    "    X_bef = X_train[X_train['near_price'].isna()]\n",
    "    y_bef = y_train[y_train.index.isin(X_bef.index)]\n",
    "    model_bef = MetaModel()\n",
    "    model_bef.fit(X_bef, y_bef)\n",
    "\n",
    "    X_aft = X_train[~X_train['near_price'].isna()]\n",
    "    y_aft = y_train[y_train.index.isin(X_aft.index)]\n",
    "    model_aft = MetaModel()\n",
    "    model_aft.fit(X_aft, y_aft)\n",
    "    \n",
    "    X_bef_test = X_test[X_test['near_price'].isna()]\n",
    "    y_bef_test = y_test[y_test.index.isin(X_bef_test.index)]\n",
    "\n",
    "    pred_bef = model_bef.predict(X_bef_test)\n",
    "    mae_bef = np.mean(np.abs(pred_bef-y_bef_test))\n",
    "\n",
    "    X_aft_test = X_test[~X_test['near_price'].isna()]\n",
    "    y_aft_test = y_test[y_test.index.isin(X_aft_test.index)]\n",
    "\n",
    "    pred_aft = model_aft.predict(X_aft_test)\n",
    "    mae_aft = np.mean(np.abs(pred_aft-y_aft_test))\n",
    "\n",
    "    print(\"MAE:\", (mae_bef*len(X_bef_test)+mae_aft*len(X_aft_test))/len(X_test))\n",
    "else:\n",
    "    model = MetaModel()\n",
    "    model.fit(X_train, y_train)\n",
    "    pred = model.predict(X_test)\n",
    "    print(\"MAE:\", np.mean(np.abs(pred-y_test)))\n",
    "\n",
    "# 6.286967181367014 nous\n",
    "# 6.274157105523045 lui+[mid_price]\n",
    "# 6.270861222339846 lui+[mid_price]+median_vol_v2\n",
    "# 6.265982478394327 lui+[mid_price]+split_bef_aft\n",
    "# 6.263266267533804 lui+[mid_price]+split_bef_aft+median_vol\n",
    "# 6.262500336351308 lui+[mid_price]+split_NaN+median_vol_v2"
   ]
  },
  {
   "cell_type": "code",
   "execution_count": 86,
   "metadata": {
    "scrolled": false
   },
   "outputs": [
    {
     "name": "stdout",
     "output_type": "stream",
     "text": [
      "Training  LGBMR\n",
      "Training  catboost\n",
      "Training first layer selector\n",
      "Fold 0 Val MAE: 6.19873872787118\n",
      "Training  LGBMR\n",
      "Training  catboost\n",
      "Training first layer selector\n",
      "Fold 1 Val MAE: 6.221486693212527\n",
      "Training  LGBMR\n",
      "Training  catboost\n",
      "Training first layer selector\n",
      "Fold 2 Val MAE: 6.207644535256036\n",
      "Training  LGBMR\n",
      "Training  catboost\n",
      "Training first layer selector\n",
      "Fold 3 Val MAE: 6.214768346421529\n",
      "Training  LGBMR\n",
      "Training  catboost\n",
      "Training first layer selector\n",
      "Fold 4 Val MAE: 6.213130733897578\n",
      "Training  LGBMR\n",
      "Training  catboost\n",
      "Training first layer selector\n",
      "Fold 5 Val MAE: 6.204202285868182\n",
      "Training  LGBMR\n",
      "Training  catboost\n",
      "Training first layer selector\n",
      "Fold 6 Val MAE: 6.198342442735598\n",
      "Training  LGBMR\n",
      "Training  catboost\n",
      "Training first layer selector\n",
      "Fold 7 Val MAE: 6.181171965348017\n",
      "Training  LGBMR\n",
      "Training  catboost\n",
      "Training first layer selector\n",
      "Fold 8 Val MAE: 6.229710807304494\n",
      "Training  LGBMR\n",
      "Training  catboost\n",
      "Training first layer selector\n",
      "Fold 9 Val MAE: 6.202128663262272\n",
      "Val Score: 6.20713 ± 0.01291\n"
     ]
    },
    {
     "data": {
      "text/plain": [
       "[6.19873872787118,\n",
       " 6.221486693212527,\n",
       " 6.207644535256036,\n",
       " 6.214768346421529,\n",
       " 6.213130733897578,\n",
       " 6.204202285868182,\n",
       " 6.198342442735598,\n",
       " 6.181171965348017,\n",
       " 6.229710807304494,\n",
       " 6.202128663262272]"
      ]
     },
     "execution_count": 86,
     "metadata": {},
     "output_type": "execute_result"
    }
   ],
   "source": [
    "models = []\n",
    "cross_val_score(MetaModel, X_train, y_train, split=split)\n",
    "\n",
    "# 6.29479 nous\n",
    "# 6.28149 lui+[mid_price]\n",
    "# 6.27809 lui+[mid_price]+median_vol_v2\n",
    "# 6.27396 lui+[mid_price]+split_bef_aft\n",
    "# 6.27060 lui+[mid_price]+split_bef_aft+median_vol\n",
    "# 6.27040 lui+[mid_price]+split_NaN+median_vol_v2"
   ]
  },
  {
   "cell_type": "code",
   "execution_count": 87,
   "metadata": {},
   "outputs": [
    {
     "name": "stdout",
     "output_type": "stream",
     "text": [
      "MAE: 6.19909868972393\n"
     ]
    }
   ],
   "source": [
    "if split:\n",
    "    X_bef_test = X_test[X_test['seconds_in_bucket'] <= 300]\n",
    "    y_bef_test = y_test[y_test.index.isin(X_bef_test.index)]\n",
    "\n",
    "    pred_bef = np.mean([model.predict(X_bef_test) for model in models[::2]], axis=0)\n",
    "    mae_bef = np.mean(np.abs(pred_bef-y_bef_test))\n",
    "\n",
    "    X_aft_test = X_test[X_test['seconds_in_bucket'] > 300]\n",
    "    y_aft_test = y_test[y_test.index.isin(X_aft_test.index)]\n",
    "\n",
    "    pred_aft = np.mean([model.predict(X_aft_test) for model in models[1::2]], axis=0)\n",
    "    mae_aft = np.mean(np.abs(pred_aft-y_aft_test))\n",
    "\n",
    "    print(\"MAE:\", (mae_bef*len(X_bef_test)+mae_aft*len(X_aft_test))/len(X_test))\n",
    "    \n",
    "else:\n",
    "    pred = np.mean([model.predict(X_test) for model in models], axis=0)\n",
    "    print(\"MAE:\", np.mean(np.abs(pred-y_test)))\n",
    "\n",
    "# 6.286636710886435 nous\n",
    "# 6.273552818669892 lui+[mid_price]\n",
    "# 6.270087093692114 lui+[mid_price]+median_vol_v2\n",
    "# 6.265754044619724 lui+[mid_price]+split_bef_aft\n",
    "# 6.26409276253301 lui+[mid_price]+split_NaN+median_vol_v2\n",
    "# 6.262009831354247 lui+[mid_price]+split_bef_aft+median_vol"
   ]
  }
 ],
 "metadata": {
  "kernelspec": {
   "display_name": "Python 3 (ipykernel)",
   "language": "python",
   "name": "python3"
  },
  "language_info": {
   "codemirror_mode": {
    "name": "ipython",
    "version": 3
   },
   "file_extension": ".py",
   "mimetype": "text/x-python",
   "name": "python",
   "nbconvert_exporter": "python",
   "pygments_lexer": "ipython3",
   "version": "3.11.1"
  }
 },
 "nbformat": 4,
 "nbformat_minor": 4
}

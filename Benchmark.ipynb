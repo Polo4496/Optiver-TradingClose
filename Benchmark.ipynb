{
 "cells": [
  {
   "cell_type": "code",
   "execution_count": 21,
   "id": "d61a2c59",
   "metadata": {},
   "outputs": [],
   "source": [
    "import pandas as pd\n",
    "from sklearn.model_selection import train_test_split\n",
    "from sklearn.linear_model import LinearRegression\n",
    "from sklearn.ensemble import RandomForestRegressor\n",
    "import warnings\n",
    "warnings.filterwarnings(\"ignore\")"
   ]
  },
  {
   "cell_type": "code",
   "execution_count": 2,
   "id": "d995301d",
   "metadata": {},
   "outputs": [],
   "source": [
    "data = pd.read_csv(\"train.csv\")\n",
    "data = data[~data.isna()[\"target\"]]\n",
    "data.drop(columns=['row_id', 'time_id'], inplace=True)"
   ]
  },
  {
   "cell_type": "markdown",
   "id": "fbad2925",
   "metadata": {},
   "source": [
    "### Full Train Test"
   ]
  },
  {
   "cell_type": "code",
   "execution_count": 28,
   "id": "37296925",
   "metadata": {},
   "outputs": [],
   "source": [
    "df = data.copy()\n",
    "df['far_price'] = df['far_price'].fillna(0)\n",
    "df['near_price'] = df['near_price'].fillna(0)\n",
    "df.dropna(inplace=True)\n",
    "\n",
    "X = df.drop(columns=['target'])\n",
    "y = df['target']\n",
    "\n",
    "X_train, X_test, y_train, y_test = train_test_split(X, y, test_size=0.3, random_state=0)"
   ]
  },
  {
   "cell_type": "code",
   "execution_count": 29,
   "id": "c5814639",
   "metadata": {},
   "outputs": [],
   "source": [
    "reg = LinearRegression().fit(X_train, y_train)\n",
    "#reg = RandomForestRegressor(max_depth=1, random_state=0).fit(X_train, y_train)"
   ]
  },
  {
   "cell_type": "code",
   "execution_count": 30,
   "id": "ccfa6b22",
   "metadata": {},
   "outputs": [
    {
     "name": "stdout",
     "output_type": "stream",
     "text": [
      "MAE: 6.313735561649197\n"
     ]
    }
   ],
   "source": [
    "pred = reg.predict(X_test)\n",
    "print(\"MAE:\", abs(pred-y_test).mean())"
   ]
  },
  {
   "cell_type": "markdown",
   "id": "d6fa330f",
   "metadata": {},
   "source": [
    "### Sequenced Before-After Train Test"
   ]
  },
  {
   "cell_type": "code",
   "execution_count": 34,
   "id": "668bd8aa",
   "metadata": {},
   "outputs": [],
   "source": [
    "X = data.drop(columns=['target'])\n",
    "y = data['target']\n",
    "\n",
    "X_train, X_test, y_train, y_test = train_test_split(X, y, test_size=0.3, random_state=0)\n",
    "\n",
    "X_train_bef = X_train[X_train['near_price'].isna()]\n",
    "X_train_aft = X_train[~X_train['near_price'].isna()]\n",
    "\n",
    "X_train_bef['far_price'] = X_train_bef['far_price'].fillna(0)\n",
    "X_train_bef['near_price'] = X_train_bef['near_price'].fillna(0)\n",
    "\n",
    "X_train_bef.dropna(inplace=True)\n",
    "X_train_aft.dropna(inplace=True)\n",
    "\n",
    "y_train_bef = y_train[y_train.index.isin(X_train_bef.index)]\n",
    "y_train_aft = y_train[y_train.index.isin(X_train_aft.index)]"
   ]
  },
  {
   "cell_type": "code",
   "execution_count": 35,
   "id": "9365835d",
   "metadata": {},
   "outputs": [],
   "source": [
    "X_test['far_price'] = X_test['far_price'].fillna(0)\n",
    "X_test['near_price'] = X_test['near_price'].fillna(0)\n",
    "X_test.dropna(inplace=True)\n",
    "\n",
    "y_test = y_test[y_test.index.isin(X_test.index)]"
   ]
  },
  {
   "cell_type": "code",
   "execution_count": 36,
   "id": "397f9aab",
   "metadata": {},
   "outputs": [],
   "source": [
    "reg_bef = LinearRegression().fit(X_train_bef, y_train_bef)\n",
    "reg_aft = LinearRegression().fit(X_train_aft, y_train_aft)"
   ]
  },
  {
   "cell_type": "code",
   "execution_count": 37,
   "id": "5782ea07",
   "metadata": {},
   "outputs": [
    {
     "name": "stdout",
     "output_type": "stream",
     "text": [
      "MAE: 6.309181722683357\n"
     ]
    }
   ],
   "source": [
    "X_test_bef, X_test_aft = X_test[X_test['near_price'] == 0], X_test[X_test['near_price'] != 0]\n",
    "\n",
    "pred_bef = reg_bef.predict(X_test_bef)\n",
    "pred_aft = reg_aft.predict(X_test_aft)\n",
    "diff_bef = abs(pred_bef - y_test[y_test.index.isin(X_test_bef.index)])\n",
    "diff_aft = abs(pred_aft - y_test[y_test.index.isin(X_test_aft.index)])\n",
    "print(\"MAE:\", (sum(diff_bef) + sum(diff_aft)) / len(X_test))"
   ]
  }
 ],
 "metadata": {
  "kernelspec": {
   "display_name": "Python 3 (ipykernel)",
   "language": "python",
   "name": "python3"
  },
  "language_info": {
   "codemirror_mode": {
    "name": "ipython",
    "version": 3
   },
   "file_extension": ".py",
   "mimetype": "text/x-python",
   "name": "python",
   "nbconvert_exporter": "python",
   "pygments_lexer": "ipython3",
   "version": "3.11.1"
  }
 },
 "nbformat": 4,
 "nbformat_minor": 5
}

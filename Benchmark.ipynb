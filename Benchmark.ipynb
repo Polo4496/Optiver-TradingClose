{
 "cells": [
  {
   "cell_type": "code",
   "execution_count": 1,
   "id": "d61a2c59",
   "metadata": {},
   "outputs": [],
   "source": [
    "import pandas as pd\n",
    "import numpy as np\n",
    "from sklearn.model_selection import train_test_split\n",
    "from sklearn.linear_model import LinearRegression\n",
    "from sklearn.feature_selection import RFE\n",
    "import warnings\n",
    "warnings.filterwarnings('ignore')"
   ]
  },
  {
   "cell_type": "markdown",
   "id": "167c5612",
   "metadata": {},
   "source": [
    "***\n",
    "### Load & Clean Data"
   ]
  },
  {
   "cell_type": "code",
   "execution_count": 2,
   "id": "0ba8c319",
   "metadata": {},
   "outputs": [],
   "source": [
    "train_csv = pd.read_csv('train.csv')"
   ]
  },
  {
   "cell_type": "code",
   "execution_count": 3,
   "id": "d995301d",
   "metadata": {},
   "outputs": [
    {
     "data": {
      "text/html": [
       "<div>\n",
       "<style scoped>\n",
       "    .dataframe tbody tr th:only-of-type {\n",
       "        vertical-align: middle;\n",
       "    }\n",
       "\n",
       "    .dataframe tbody tr th {\n",
       "        vertical-align: top;\n",
       "    }\n",
       "\n",
       "    .dataframe thead th {\n",
       "        text-align: right;\n",
       "    }\n",
       "</style>\n",
       "<table border=\"1\" class=\"dataframe\">\n",
       "  <thead>\n",
       "    <tr style=\"text-align: right;\">\n",
       "      <th></th>\n",
       "      <th>stock_id</th>\n",
       "      <th>date_id</th>\n",
       "      <th>seconds_in_bucket</th>\n",
       "      <th>imbalance_size</th>\n",
       "      <th>imbalance_buy_sell_flag</th>\n",
       "      <th>reference_price</th>\n",
       "      <th>matched_size</th>\n",
       "      <th>far_price</th>\n",
       "      <th>near_price</th>\n",
       "      <th>bid_price</th>\n",
       "      <th>bid_size</th>\n",
       "      <th>ask_price</th>\n",
       "      <th>ask_size</th>\n",
       "      <th>wap</th>\n",
       "      <th>target</th>\n",
       "    </tr>\n",
       "  </thead>\n",
       "  <tbody>\n",
       "    <tr>\n",
       "      <th>0</th>\n",
       "      <td>0</td>\n",
       "      <td>0</td>\n",
       "      <td>0</td>\n",
       "      <td>3180602.69</td>\n",
       "      <td>1</td>\n",
       "      <td>0.999812</td>\n",
       "      <td>13380276.64</td>\n",
       "      <td>NaN</td>\n",
       "      <td>NaN</td>\n",
       "      <td>0.999812</td>\n",
       "      <td>60651.50</td>\n",
       "      <td>1.000026</td>\n",
       "      <td>8493.03</td>\n",
       "      <td>1.0</td>\n",
       "      <td>-3.029704</td>\n",
       "    </tr>\n",
       "    <tr>\n",
       "      <th>1</th>\n",
       "      <td>1</td>\n",
       "      <td>0</td>\n",
       "      <td>0</td>\n",
       "      <td>166603.91</td>\n",
       "      <td>-1</td>\n",
       "      <td>0.999896</td>\n",
       "      <td>1642214.25</td>\n",
       "      <td>NaN</td>\n",
       "      <td>NaN</td>\n",
       "      <td>0.999896</td>\n",
       "      <td>3233.04</td>\n",
       "      <td>1.000660</td>\n",
       "      <td>20605.09</td>\n",
       "      <td>1.0</td>\n",
       "      <td>-5.519986</td>\n",
       "    </tr>\n",
       "    <tr>\n",
       "      <th>2</th>\n",
       "      <td>2</td>\n",
       "      <td>0</td>\n",
       "      <td>0</td>\n",
       "      <td>302879.87</td>\n",
       "      <td>-1</td>\n",
       "      <td>0.999561</td>\n",
       "      <td>1819368.03</td>\n",
       "      <td>NaN</td>\n",
       "      <td>NaN</td>\n",
       "      <td>0.999403</td>\n",
       "      <td>37956.00</td>\n",
       "      <td>1.000298</td>\n",
       "      <td>18995.00</td>\n",
       "      <td>1.0</td>\n",
       "      <td>-8.389950</td>\n",
       "    </tr>\n",
       "    <tr>\n",
       "      <th>3</th>\n",
       "      <td>3</td>\n",
       "      <td>0</td>\n",
       "      <td>0</td>\n",
       "      <td>11917682.27</td>\n",
       "      <td>-1</td>\n",
       "      <td>1.000171</td>\n",
       "      <td>18389745.62</td>\n",
       "      <td>NaN</td>\n",
       "      <td>NaN</td>\n",
       "      <td>0.999999</td>\n",
       "      <td>2324.90</td>\n",
       "      <td>1.000214</td>\n",
       "      <td>479032.40</td>\n",
       "      <td>1.0</td>\n",
       "      <td>-4.010200</td>\n",
       "    </tr>\n",
       "    <tr>\n",
       "      <th>4</th>\n",
       "      <td>4</td>\n",
       "      <td>0</td>\n",
       "      <td>0</td>\n",
       "      <td>447549.96</td>\n",
       "      <td>-1</td>\n",
       "      <td>0.999532</td>\n",
       "      <td>17860614.95</td>\n",
       "      <td>NaN</td>\n",
       "      <td>NaN</td>\n",
       "      <td>0.999394</td>\n",
       "      <td>16485.54</td>\n",
       "      <td>1.000016</td>\n",
       "      <td>434.10</td>\n",
       "      <td>1.0</td>\n",
       "      <td>-7.349849</td>\n",
       "    </tr>\n",
       "  </tbody>\n",
       "</table>\n",
       "</div>"
      ],
      "text/plain": [
       "   stock_id  date_id  seconds_in_bucket  imbalance_size  \\\n",
       "0         0        0                  0      3180602.69   \n",
       "1         1        0                  0       166603.91   \n",
       "2         2        0                  0       302879.87   \n",
       "3         3        0                  0     11917682.27   \n",
       "4         4        0                  0       447549.96   \n",
       "\n",
       "   imbalance_buy_sell_flag  reference_price  matched_size  far_price  \\\n",
       "0                        1         0.999812   13380276.64        NaN   \n",
       "1                       -1         0.999896    1642214.25        NaN   \n",
       "2                       -1         0.999561    1819368.03        NaN   \n",
       "3                       -1         1.000171   18389745.62        NaN   \n",
       "4                       -1         0.999532   17860614.95        NaN   \n",
       "\n",
       "   near_price  bid_price  bid_size  ask_price   ask_size  wap    target  \n",
       "0         NaN   0.999812  60651.50   1.000026    8493.03  1.0 -3.029704  \n",
       "1         NaN   0.999896   3233.04   1.000660   20605.09  1.0 -5.519986  \n",
       "2         NaN   0.999403  37956.00   1.000298   18995.00  1.0 -8.389950  \n",
       "3         NaN   0.999999   2324.90   1.000214  479032.40  1.0 -4.010200  \n",
       "4         NaN   0.999394  16485.54   1.000016     434.10  1.0 -7.349849  "
      ]
     },
     "metadata": {},
     "output_type": "display_data"
    }
   ],
   "source": [
    "data = train_csv.copy()\n",
    "data = data[~data.isna()['target']]\n",
    "data.drop(columns=['row_id', 'time_id'], inplace=True)\n",
    "display(data.head())"
   ]
  },
  {
   "cell_type": "markdown",
   "id": "48928ee8",
   "metadata": {},
   "source": [
    "***\n",
    "### Initial Model"
   ]
  },
  {
   "cell_type": "markdown",
   "id": "d27b08a0",
   "metadata": {},
   "source": [
    "##### Replacing NaN by 0"
   ]
  },
  {
   "cell_type": "code",
   "execution_count": 4,
   "id": "915b0a33",
   "metadata": {},
   "outputs": [],
   "source": [
    "df = data.copy()\n",
    "X = df.drop(columns=['target'])\n",
    "y = df['target']\n",
    "\n",
    "X_train, X_test, y_train, y_test = train_test_split(X, y, test_size=0.3, random_state=0)\n",
    "\n",
    "X_train.fillna(0, inplace=True)\n",
    "X_test.fillna(0, inplace=True)"
   ]
  },
  {
   "cell_type": "code",
   "execution_count": 5,
   "id": "01bff46f",
   "metadata": {},
   "outputs": [],
   "source": [
    "reg = LinearRegression().fit(X_train, y_train)"
   ]
  },
  {
   "cell_type": "code",
   "execution_count": 6,
   "id": "049f931c",
   "metadata": {},
   "outputs": [
    {
     "name": "stdout",
     "output_type": "stream",
     "text": [
      "MAE: 6.310901168038444\n"
     ]
    }
   ],
   "source": [
    "pred = reg.predict(X_test)\n",
    "print(\"MAE:\", abs(pred-y_test).mean())"
   ]
  },
  {
   "cell_type": "markdown",
   "id": "66918300",
   "metadata": {},
   "source": [
    "##### Replacing NaN by Mean"
   ]
  },
  {
   "cell_type": "code",
   "execution_count": 7,
   "id": "27c31da7",
   "metadata": {},
   "outputs": [],
   "source": [
    "df = data.copy()\n",
    "X = df.drop(columns=['target'])\n",
    "y = df['target']\n",
    "\n",
    "X_train, X_test, y_train, y_test = train_test_split(X, y, test_size=0.3, random_state=0)\n",
    "\n",
    "mu = X_train.mean()\n",
    "X_train.fillna(mu, inplace=True)\n",
    "X_test.fillna(mu, inplace=True)"
   ]
  },
  {
   "cell_type": "code",
   "execution_count": 8,
   "id": "66f721e9",
   "metadata": {},
   "outputs": [],
   "source": [
    "reg = LinearRegression().fit(X_train, y_train)"
   ]
  },
  {
   "cell_type": "code",
   "execution_count": 9,
   "id": "999ec3d9",
   "metadata": {},
   "outputs": [
    {
     "name": "stdout",
     "output_type": "stream",
     "text": [
      "MAE: 6.310142024255629\n"
     ]
    }
   ],
   "source": [
    "pred = reg.predict(X_test)\n",
    "print(\"MAE:\", abs(pred-y_test).mean())"
   ]
  },
  {
   "cell_type": "markdown",
   "id": "d5269e6d",
   "metadata": {},
   "source": [
    "***\n",
    "### Feature Engineering"
   ]
  },
  {
   "cell_type": "code",
   "execution_count": 10,
   "id": "599054f9",
   "metadata": {},
   "outputs": [
    {
     "data": {
      "text/html": [
       "<div>\n",
       "<style scoped>\n",
       "    .dataframe tbody tr th:only-of-type {\n",
       "        vertical-align: middle;\n",
       "    }\n",
       "\n",
       "    .dataframe tbody tr th {\n",
       "        vertical-align: top;\n",
       "    }\n",
       "\n",
       "    .dataframe thead th {\n",
       "        text-align: right;\n",
       "    }\n",
       "</style>\n",
       "<table border=\"1\" class=\"dataframe\">\n",
       "  <thead>\n",
       "    <tr style=\"text-align: right;\">\n",
       "      <th></th>\n",
       "      <th>stock_id</th>\n",
       "      <th>date_id</th>\n",
       "      <th>seconds_in_bucket</th>\n",
       "      <th>reference_price</th>\n",
       "      <th>matched_size</th>\n",
       "      <th>far_price</th>\n",
       "      <th>near_price</th>\n",
       "      <th>bid_price</th>\n",
       "      <th>bid_size</th>\n",
       "      <th>ask_price</th>\n",
       "      <th>ask_size</th>\n",
       "      <th>wap</th>\n",
       "      <th>target</th>\n",
       "      <th>imbalance_auction</th>\n",
       "      <th>imbalance_auction_proportion_matched</th>\n",
       "      <th>imbalance_order_book</th>\n",
       "      <th>spread</th>\n",
       "      <th>mid_price</th>\n",
       "      <th>bef_300</th>\n",
       "      <th>aft_300</th>\n",
       "    </tr>\n",
       "  </thead>\n",
       "  <tbody>\n",
       "    <tr>\n",
       "      <th>0</th>\n",
       "      <td>0</td>\n",
       "      <td>0</td>\n",
       "      <td>0</td>\n",
       "      <td>0.999812</td>\n",
       "      <td>13380276.64</td>\n",
       "      <td>NaN</td>\n",
       "      <td>NaN</td>\n",
       "      <td>0.999812</td>\n",
       "      <td>60651.50</td>\n",
       "      <td>1.000026</td>\n",
       "      <td>8493.03</td>\n",
       "      <td>1.0</td>\n",
       "      <td>-3.029704</td>\n",
       "      <td>3180602.69</td>\n",
       "      <td>0.237708</td>\n",
       "      <td>0.877170</td>\n",
       "      <td>0.000214</td>\n",
       "      <td>0.999919</td>\n",
       "      <td>1</td>\n",
       "      <td>0</td>\n",
       "    </tr>\n",
       "    <tr>\n",
       "      <th>1</th>\n",
       "      <td>1</td>\n",
       "      <td>0</td>\n",
       "      <td>0</td>\n",
       "      <td>0.999896</td>\n",
       "      <td>1642214.25</td>\n",
       "      <td>NaN</td>\n",
       "      <td>NaN</td>\n",
       "      <td>0.999896</td>\n",
       "      <td>3233.04</td>\n",
       "      <td>1.000660</td>\n",
       "      <td>20605.09</td>\n",
       "      <td>1.0</td>\n",
       "      <td>-5.519986</td>\n",
       "      <td>-166603.91</td>\n",
       "      <td>0.101451</td>\n",
       "      <td>0.135625</td>\n",
       "      <td>0.000764</td>\n",
       "      <td>1.000278</td>\n",
       "      <td>1</td>\n",
       "      <td>0</td>\n",
       "    </tr>\n",
       "    <tr>\n",
       "      <th>2</th>\n",
       "      <td>2</td>\n",
       "      <td>0</td>\n",
       "      <td>0</td>\n",
       "      <td>0.999561</td>\n",
       "      <td>1819368.03</td>\n",
       "      <td>NaN</td>\n",
       "      <td>NaN</td>\n",
       "      <td>0.999403</td>\n",
       "      <td>37956.00</td>\n",
       "      <td>1.000298</td>\n",
       "      <td>18995.00</td>\n",
       "      <td>1.0</td>\n",
       "      <td>-8.389950</td>\n",
       "      <td>-302879.87</td>\n",
       "      <td>0.166475</td>\n",
       "      <td>0.666468</td>\n",
       "      <td>0.000895</td>\n",
       "      <td>0.999850</td>\n",
       "      <td>1</td>\n",
       "      <td>0</td>\n",
       "    </tr>\n",
       "    <tr>\n",
       "      <th>3</th>\n",
       "      <td>3</td>\n",
       "      <td>0</td>\n",
       "      <td>0</td>\n",
       "      <td>1.000171</td>\n",
       "      <td>18389745.62</td>\n",
       "      <td>NaN</td>\n",
       "      <td>NaN</td>\n",
       "      <td>0.999999</td>\n",
       "      <td>2324.90</td>\n",
       "      <td>1.000214</td>\n",
       "      <td>479032.40</td>\n",
       "      <td>1.0</td>\n",
       "      <td>-4.010200</td>\n",
       "      <td>-11917682.27</td>\n",
       "      <td>0.648061</td>\n",
       "      <td>0.004830</td>\n",
       "      <td>0.000215</td>\n",
       "      <td>1.000107</td>\n",
       "      <td>1</td>\n",
       "      <td>0</td>\n",
       "    </tr>\n",
       "    <tr>\n",
       "      <th>4</th>\n",
       "      <td>4</td>\n",
       "      <td>0</td>\n",
       "      <td>0</td>\n",
       "      <td>0.999532</td>\n",
       "      <td>17860614.95</td>\n",
       "      <td>NaN</td>\n",
       "      <td>NaN</td>\n",
       "      <td>0.999394</td>\n",
       "      <td>16485.54</td>\n",
       "      <td>1.000016</td>\n",
       "      <td>434.10</td>\n",
       "      <td>1.0</td>\n",
       "      <td>-7.349849</td>\n",
       "      <td>-447549.96</td>\n",
       "      <td>0.025058</td>\n",
       "      <td>0.974343</td>\n",
       "      <td>0.000622</td>\n",
       "      <td>0.999705</td>\n",
       "      <td>1</td>\n",
       "      <td>0</td>\n",
       "    </tr>\n",
       "  </tbody>\n",
       "</table>\n",
       "</div>"
      ],
      "text/plain": [
       "   stock_id  date_id  seconds_in_bucket  reference_price  matched_size  \\\n",
       "0         0        0                  0         0.999812   13380276.64   \n",
       "1         1        0                  0         0.999896    1642214.25   \n",
       "2         2        0                  0         0.999561    1819368.03   \n",
       "3         3        0                  0         1.000171   18389745.62   \n",
       "4         4        0                  0         0.999532   17860614.95   \n",
       "\n",
       "   far_price  near_price  bid_price  bid_size  ask_price   ask_size  wap  \\\n",
       "0        NaN         NaN   0.999812  60651.50   1.000026    8493.03  1.0   \n",
       "1        NaN         NaN   0.999896   3233.04   1.000660   20605.09  1.0   \n",
       "2        NaN         NaN   0.999403  37956.00   1.000298   18995.00  1.0   \n",
       "3        NaN         NaN   0.999999   2324.90   1.000214  479032.40  1.0   \n",
       "4        NaN         NaN   0.999394  16485.54   1.000016     434.10  1.0   \n",
       "\n",
       "     target  imbalance_auction  imbalance_auction_proportion_matched  \\\n",
       "0 -3.029704         3180602.69                              0.237708   \n",
       "1 -5.519986         -166603.91                              0.101451   \n",
       "2 -8.389950         -302879.87                              0.166475   \n",
       "3 -4.010200       -11917682.27                              0.648061   \n",
       "4 -7.349849         -447549.96                              0.025058   \n",
       "\n",
       "   imbalance_order_book    spread  mid_price  bef_300  aft_300  \n",
       "0              0.877170  0.000214   0.999919        1        0  \n",
       "1              0.135625  0.000764   1.000278        1        0  \n",
       "2              0.666468  0.000895   0.999850        1        0  \n",
       "3              0.004830  0.000215   1.000107        1        0  \n",
       "4              0.974343  0.000622   0.999705        1        0  "
      ]
     },
     "metadata": {},
     "output_type": "display_data"
    }
   ],
   "source": [
    "data['imbalance_auction'] = data['imbalance_size'] * data['imbalance_buy_sell_flag']\n",
    "data['imbalance_auction_proportion_matched'] = data['imbalance_size'] / data['matched_size']\n",
    "data['imbalance_order_book'] = data['bid_size']/(data['bid_size']+data['ask_size'])\n",
    "\n",
    "data['spread'] = data['ask_price'] - data['bid_price']\n",
    "data['mid_price'] = (data['ask_price'] + data['bid_price']) / 2\n",
    "\n",
    "data['bef_300'] = np.where(data['seconds_in_bucket'] <= 300, 1, 0)\n",
    "data['aft_300'] = np.where(data['seconds_in_bucket'] > 300, 1, 0)\n",
    "\n",
    "data.drop(columns=['imbalance_size', 'imbalance_buy_sell_flag'], inplace=True)\n",
    "display(data.head())"
   ]
  },
  {
   "cell_type": "markdown",
   "id": "fbad2925",
   "metadata": {},
   "source": [
    "***\n",
    "### Model with Feature Engineering"
   ]
  },
  {
   "cell_type": "code",
   "execution_count": 11,
   "id": "37296925",
   "metadata": {},
   "outputs": [],
   "source": [
    "df = data.copy()\n",
    "X = df.drop(columns=['target'])\n",
    "y = df['target']\n",
    "\n",
    "X_train, X_test, y_train, y_test = train_test_split(X, y, test_size=0.3, random_state=0)\n",
    "\n",
    "mu = X_train.mean()\n",
    "X_train.fillna(mu, inplace=True)\n",
    "X_test.fillna(mu, inplace=True)"
   ]
  },
  {
   "cell_type": "code",
   "execution_count": 12,
   "id": "79d0d24b",
   "metadata": {},
   "outputs": [],
   "source": [
    "reg = LinearRegression().fit(X_train, y_train)"
   ]
  },
  {
   "cell_type": "code",
   "execution_count": 13,
   "id": "96d07e47",
   "metadata": {},
   "outputs": [
    {
     "name": "stdout",
     "output_type": "stream",
     "text": [
      "MAE: 6.308015695259861\n"
     ]
    }
   ],
   "source": [
    "pred = reg.predict(X_test)\n",
    "print(\"MAE:\", abs(pred-y_test).mean())"
   ]
  },
  {
   "cell_type": "markdown",
   "id": "5ca9015d",
   "metadata": {},
   "source": [
    "***\n",
    "### Model with Feature Selection"
   ]
  },
  {
   "cell_type": "code",
   "execution_count": 14,
   "id": "addef9e8",
   "metadata": {},
   "outputs": [],
   "source": [
    "df = data.copy()\n",
    "X = df.drop(columns=['target'])\n",
    "y = df['target']\n",
    "\n",
    "X_train, X_test, y_train, y_test = train_test_split(X, y, test_size=0.3, random_state=0)\n",
    "\n",
    "mu = X_train.mean()\n",
    "X_train.fillna(mu, inplace=True)\n",
    "X_test.fillna(mu, inplace=True)"
   ]
  },
  {
   "cell_type": "code",
   "execution_count": 15,
   "id": "57521966",
   "metadata": {},
   "outputs": [],
   "source": [
    "reg = LinearRegression()\n",
    "rfecv = RFE(estimator=reg, n_features_to_select=16, step=1)\n",
    "X_rfecv_train = rfecv.fit_transform(X_train, y_train)\n",
    "X_rfecv_test = rfecv.transform(X_test)\n",
    "reg = reg.fit(X_rfecv_train, y_train)"
   ]
  },
  {
   "cell_type": "code",
   "execution_count": 16,
   "id": "4af9bf90",
   "metadata": {},
   "outputs": [
    {
     "data": {
      "text/plain": [
       "Index(['stock_id', 'date_id', 'seconds_in_bucket', 'reference_price',\n",
       "       'far_price', 'near_price', 'bid_price', 'bid_size', 'ask_price', 'wap',\n",
       "       'imbalance_auction_proportion_matched', 'imbalance_order_book',\n",
       "       'spread', 'mid_price', 'bef_300', 'aft_300'],\n",
       "      dtype='object')"
      ]
     },
     "metadata": {},
     "output_type": "display_data"
    }
   ],
   "source": [
    "display(X.columns[rfecv.support_])"
   ]
  },
  {
   "cell_type": "code",
   "execution_count": 17,
   "id": "98e5a67d",
   "metadata": {},
   "outputs": [
    {
     "name": "stdout",
     "output_type": "stream",
     "text": [
      "MAE: 6.309346923401272\n"
     ]
    }
   ],
   "source": [
    "pred = reg.predict(X_rfecv_test)\n",
    "print(\"MAE:\", abs(pred-y_test).mean())"
   ]
  },
  {
   "cell_type": "markdown",
   "id": "d6fa330f",
   "metadata": {},
   "source": [
    "***\n",
    "### Sequenced Before-After 300s"
   ]
  },
  {
   "cell_type": "code",
   "execution_count": 18,
   "id": "668bd8aa",
   "metadata": {},
   "outputs": [],
   "source": [
    "df = data.copy()\n",
    "X = df.drop(columns=['target'])\n",
    "y = df['target']\n",
    "\n",
    "X_train, X_test, y_train, y_test = train_test_split(X, y, test_size=0.3, random_state=0)\n",
    "\n",
    "X_train_bef = X_train[X_train['bef_300'] == 1].drop(columns=['far_price', 'near_price'])\n",
    "X_train_aft = X_train[X_train['aft_300'] == 1]\n",
    "\n",
    "mu_1 = X_train_bef.mean()\n",
    "mu_2 = X_train_aft.mean()\n",
    "X_train_bef.fillna(mu_1, inplace=True)\n",
    "X_train_aft.fillna(mu_2, inplace=True)\n",
    "\n",
    "y_train_bef = y_train[y_train.index.isin(X_train_bef.index)]\n",
    "y_train_aft = y_train[y_train.index.isin(X_train_aft.index)]"
   ]
  },
  {
   "cell_type": "code",
   "execution_count": 19,
   "id": "397f9aab",
   "metadata": {},
   "outputs": [],
   "source": [
    "reg_bef = LinearRegression().fit(X_train_bef, y_train_bef)\n",
    "reg_aft = LinearRegression().fit(X_train_aft, y_train_aft)"
   ]
  },
  {
   "cell_type": "code",
   "execution_count": 20,
   "id": "5782ea07",
   "metadata": {},
   "outputs": [
    {
     "name": "stdout",
     "output_type": "stream",
     "text": [
      "MAE: 6.307613587273323\n"
     ]
    }
   ],
   "source": [
    "X_test_bef = X_test[X_test['bef_300'] == 1].drop(columns=['far_price', 'near_price'])\n",
    "X_test_aft = X_test[X_test['aft_300'] == 1]\n",
    "\n",
    "X_test_bef.fillna(mu_1, inplace=True)\n",
    "X_test_aft.fillna(mu_2, inplace=True)\n",
    "\n",
    "pred_bef = reg_bef.predict(X_test_bef)\n",
    "pred_aft = reg_aft.predict(X_test_aft)\n",
    "diff_bef = abs(pred_bef - y_test[y_test.index.isin(X_test_bef.index)])\n",
    "diff_aft = abs(pred_aft - y_test[y_test.index.isin(X_test_aft.index)])\n",
    "print(\"MAE:\", (sum(diff_bef) + sum(diff_aft)) / len(X_test))"
   ]
  },
  {
   "cell_type": "markdown",
   "id": "e822350f",
   "metadata": {},
   "source": [
    "***\n",
    "### Sequenced By Stock"
   ]
  },
  {
   "cell_type": "code",
   "execution_count": 21,
   "id": "1b4d1f55",
   "metadata": {},
   "outputs": [],
   "source": [
    "df = data.copy()\n",
    "df['far_price'] = df['far_price'].fillna(0)\n",
    "df['near_price'] = df['near_price'].fillna(0)\n",
    "df.dropna(inplace=True)\n",
    "\n",
    "X = df.drop(columns=['target'])\n",
    "y = df['target']\n",
    "\n",
    "for s_id in df['stock_id'].unique():\n",
    "    X_id = X[X['stock_id'] == s_id]\n",
    "\n",
    "X_train, X_test, y_train, y_test = train_test_split(X, y, test_size=0.3, random_state=0)"
   ]
  }
 ],
 "metadata": {
  "kernelspec": {
   "display_name": "Python 3 (ipykernel)",
   "language": "python",
   "name": "python3"
  },
  "language_info": {
   "codemirror_mode": {
    "name": "ipython",
    "version": 3
   },
   "file_extension": ".py",
   "mimetype": "text/x-python",
   "name": "python",
   "nbconvert_exporter": "python",
   "pygments_lexer": "ipython3",
   "version": "3.11.1"
  }
 },
 "nbformat": 4,
 "nbformat_minor": 5
}

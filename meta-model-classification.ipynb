{
 "cells": [
  {
   "cell_type": "markdown",
   "metadata": {
    "papermill": {
     "duration": 0.014282,
     "end_time": "2023-06-03T01:46:16.695936",
     "exception": false,
     "start_time": "2023-06-03T01:46:16.681654",
     "status": "completed"
    },
    "tags": []
   },
   "source": [
    "### Loading Libraries and Datasets"
   ]
  },
  {
   "cell_type": "code",
   "execution_count": 1,
   "metadata": {
    "_kg_hide-input": false,
    "_kg_hide-output": true,
    "execution": {
     "iopub.execute_input": "2023-09-24T09:43:44.600967Z",
     "iopub.status.busy": "2023-09-24T09:43:44.600229Z",
     "iopub.status.idle": "2023-09-24T09:43:50.495944Z",
     "shell.execute_reply": "2023-09-24T09:43:50.494498Z",
     "shell.execute_reply.started": "2023-09-24T09:43:44.600930Z"
    },
    "papermill": {
     "duration": 4.795021,
     "end_time": "2023-06-03T01:46:36.791162",
     "exception": false,
     "start_time": "2023-06-03T01:46:31.996141",
     "status": "completed"
    },
    "tags": []
   },
   "outputs": [],
   "source": [
    "import numpy as np\n",
    "import pandas as pd\n",
    "import plotly_express as px\n",
    "\n",
    "from sklearn import set_config\n",
    "from sklearn.base import clone\n",
    "from sklearn.preprocessing import FunctionTransformer\n",
    "from sklearn.pipeline import make_pipeline\n",
    "from sklearn.metrics import mean_absolute_error\n",
    "from sklearn.model_selection import KFold\n",
    "from sklearn.model_selection import train_test_split\n",
    "from catboost import CatBoostClassifier\n",
    "from lightgbm import LGBMClassifier\n",
    "\n",
    "pd.set_option('display.max_rows', 100)\n",
    "set_config(transform_output = 'pandas')\n",
    "pd.options.mode.chained_assignment = None"
   ]
  },
  {
   "cell_type": "code",
   "execution_count": 2,
   "metadata": {
    "_kg_hide-output": true,
    "execution": {
     "iopub.execute_input": "2023-09-24T09:43:50.500527Z",
     "iopub.status.busy": "2023-09-24T09:43:50.499127Z",
     "iopub.status.idle": "2023-09-24T09:44:16.378234Z",
     "shell.execute_reply": "2023-09-24T09:44:16.376885Z",
     "shell.execute_reply.started": "2023-09-24T09:43:50.500463Z"
    }
   },
   "outputs": [],
   "source": [
    "data = pd.read_csv(\"train.csv\")\n",
    "medianVol = pd.read_csv(\"MedianVolV2.csv\")\n",
    "data = data.merge(medianVol, how = \"left\", on = \"stock_id\")\n",
    "seed = 42"
   ]
  },
  {
   "cell_type": "markdown",
   "metadata": {},
   "source": [
    "### Cross-Validation"
   ]
  },
  {
   "cell_type": "code",
   "execution_count": 3,
   "metadata": {},
   "outputs": [],
   "source": [
    "cv = KFold(n_splits=5)\n",
    "models = []\n",
    "\n",
    "def cross_val_score(estimatorConstructor, X, y, cv = cv, split=False):\n",
    "    preds_not_null, good_preds_not_null = [], []\n",
    "    for fold, (train_idx, val_idx) in enumerate(cv.split(X, y)):\n",
    "        \n",
    "        model = estimatorConstructor()\n",
    "        \n",
    "        #define train set\n",
    "        X_train = X.iloc[train_idx]\n",
    "        y_train = y.iloc[train_idx]\n",
    "        \n",
    "        #define validation set\n",
    "        X_val = X.iloc[val_idx]\n",
    "        y_val = y.iloc[val_idx]\n",
    "        \n",
    "        model.fit(X_train, y_train)\n",
    "        models.append(model)\n",
    "\n",
    "        val_preds = model.predict(X_val)\n",
    "        pred_not_null, good_pred_not_null = evaluate(val_preds, y_val)\n",
    "        print(\"Fold\", fold, \"----------\")\n",
    "        print(\"Pred != 0:\", pred_not_null)\n",
    "        print(\"Good Pred | Pred != 0:\", good_pred_not_null)\n",
    "        print(\"Good Pred:\", pred_not_null*good_pred_not_null)\n",
    "        \n",
    "        preds_not_null.append(pred_not_null)\n",
    "        good_preds_not_null.append(good_pred_not_null)\n",
    "    print(\"--------------------\")\n",
    "    print(\"Mean Pred != 0:\", np.mean(preds_not_null))\n",
    "    print(\"Mean Good Pred | Pred != 0:\", np.mean(good_preds_not_null))"
   ]
  },
  {
   "cell_type": "markdown",
   "metadata": {},
   "source": [
    "### Model"
   ]
  },
  {
   "cell_type": "code",
   "execution_count": 4,
   "metadata": {},
   "outputs": [],
   "source": [
    "def generate_features(df):\n",
    "    features = ['seconds_in_bucket', 'imbalance_buy_sell_flag',\n",
    "                'imbalance_size', 'matched_size', 'bid_size', 'ask_size',\n",
    "                'reference_price','far_price', 'near_price', 'ask_price', 'bid_price', 'wap',\n",
    "                'imb_s1', 'imb_s2', 'overall_medvol', 'first5min_medvol', 'last5min_medvol']\n",
    "    \n",
    "    df['imb_s1'] = df.eval('(bid_size-ask_size)/(bid_size+ask_size)')\n",
    "    df['imb_s2'] = df.eval('(imbalance_size-matched_size)/(matched_size+imbalance_size)')\n",
    "    \n",
    "    df['mid_price'] = (df['ask_price'] + df['bid_price']) / 2\n",
    "    \n",
    "    prices = ['reference_price','far_price', 'near_price', 'ask_price', 'bid_price', 'wap', 'mid_price']\n",
    "    \n",
    "    for i,a in enumerate(prices):\n",
    "        for j,b in enumerate(prices):\n",
    "            if i>j:\n",
    "                df[f'{a}_{b}_imb'] = df.eval(f'({a}-{b})/({a}+{b})')\n",
    "                features.append(f'{a}_{b}_imb')    \n",
    "                    \n",
    "    for i,a in enumerate(prices):\n",
    "        for j,b in enumerate(prices):\n",
    "            for k,c in enumerate(prices):\n",
    "                if i>j and j>k:\n",
    "                    max_ = df[[a,b,c]].max(axis=1)\n",
    "                    min_ = df[[a,b,c]].min(axis=1)\n",
    "                    mid_ = df[[a,b,c]].sum(axis=1)-min_-max_\n",
    "\n",
    "                    df[f'{a}_{b}_{c}_imb2'] = (max_-mid_)/(mid_-min_)\n",
    "                    features.append(f'{a}_{b}_{c}_imb2')\n",
    "    \n",
    "    return df[features]"
   ]
  },
  {
   "cell_type": "code",
   "execution_count": 24,
   "metadata": {
    "execution": {
     "iopub.execute_input": "2023-09-24T09:44:44.962033Z",
     "iopub.status.busy": "2023-09-24T09:44:44.961514Z",
     "iopub.status.idle": "2023-09-24T09:44:44.977754Z",
     "shell.execute_reply": "2023-09-24T09:44:44.976315Z",
     "shell.execute_reply.started": "2023-09-24T09:44:44.961984Z"
    }
   },
   "outputs": [],
   "source": [
    "class MetaModel : \n",
    "    def __init__(self):\n",
    "        self.models = [\n",
    "            {\n",
    "                \"type\": \"LGBM Classifier\",\n",
    "                \"model\": LGBMClassifier(random_seed=seed, n_estimators=100, verbose=0)\n",
    "            },\n",
    "            {\n",
    "                \"type\": \"CatBoost Classifier\",\n",
    "                \"model\": CatBoostClassifier(random_seed=seed, n_estimators=100, verbose=0)\n",
    "            }\n",
    "        ]\n",
    "        \n",
    "        return\n",
    "    \n",
    "    def fit(self, X, y):\n",
    "        y = np.where(y >= 0, 1, 0)\n",
    "        \n",
    "        for i, method in enumerate(self.models):\n",
    "            type, model = method.values()\n",
    "            print(\"Training \", type)\n",
    "            model.fit(X, y)\n",
    "        \n",
    "        return\n",
    "\n",
    "    def predict(self, X):\n",
    "        models_pred_class = []\n",
    "        models_pred_proba = []\n",
    "        for i, method in enumerate(self.models):\n",
    "            type, model = method.values()\n",
    "            models_pred_class.append(model.predict(X))\n",
    "            models_pred_proba.append(np.max(model.predict_proba(X), axis=1))\n",
    "        \n",
    "        pred_class = np.mean(np.array(models_pred_class).T, axis=1)\n",
    "        pred_proba = np.max(np.array(models_pred_proba).T, axis=1)\n",
    "            \n",
    "        prediction = np.where((pred_class == 1) & (pred_proba > 0.57), 1, 0)\n",
    "        prediction = np.where((pred_class == 0) & (pred_proba > 0.57), -1, prediction)\n",
    "        \n",
    "        return prediction"
   ]
  },
  {
   "cell_type": "code",
   "execution_count": 6,
   "metadata": {},
   "outputs": [],
   "source": [
    "def evaluate(pred, value):\n",
    "    pred_not_null = len(value[pred!=0])/len(value)\n",
    "    good_pred_not_null = len(value[(np.sign(value) == pred) & (pred!=0)])/len(value[pred!=0])\n",
    "    return pred_not_null, good_pred_not_null"
   ]
  },
  {
   "cell_type": "markdown",
   "metadata": {},
   "source": [
    "### Performance"
   ]
  },
  {
   "cell_type": "code",
   "execution_count": 7,
   "metadata": {},
   "outputs": [],
   "source": [
    "X = data[~data.target.isna()]\n",
    "y = X.pop('target')\n",
    "X = generate_features(X)"
   ]
  },
  {
   "cell_type": "code",
   "execution_count": 8,
   "metadata": {},
   "outputs": [],
   "source": [
    "X_train, X_test, y_train, y_test = train_test_split(X, y, test_size=0.33, random_state=42)\n",
    "\n",
    "mu = X_train.mean()\n",
    "X_train.fillna(mu, inplace=True)\n",
    "X_test.fillna(mu, inplace=True)"
   ]
  },
  {
   "cell_type": "code",
   "execution_count": 11,
   "metadata": {
    "execution": {
     "iopub.execute_input": "2023-09-24T09:44:16.976121Z",
     "iopub.status.busy": "2023-09-24T09:44:16.975307Z",
     "iopub.status.idle": "2023-09-24T09:44:21.096939Z",
     "shell.execute_reply": "2023-09-24T09:44:21.095642Z",
     "shell.execute_reply.started": "2023-09-24T09:44:16.976089Z"
    },
    "scrolled": true
   },
   "outputs": [
    {
     "name": "stdout",
     "output_type": "stream",
     "text": [
      "Training  LGBM Classifier\n",
      "Training  CatBoost Classifier\n",
      "Pred != 0: 0.37076953783761113\n",
      "Good Pred | Pred != 0: 0.6213033078110152\n",
      "Good Pred: 0.23036034029406915\n"
     ]
    }
   ],
   "source": [
    "model = MetaModel()\n",
    "model.fit(X_train, y_train)\n",
    "pred = model.predict(X_test)\n",
    "pred_not_null, good_pred_not_null = evaluate(pred, y_test)\n",
    "print(\"Pred != 0:\", pred_not_null)\n",
    "print(\"Good Pred | Pred != 0:\", good_pred_not_null)\n",
    "print(\"Good Pred:\", pred_not_null*good_pred_not_null)"
   ]
  },
  {
   "cell_type": "code",
   "execution_count": 101,
   "metadata": {},
   "outputs": [
    {
     "name": "stdout",
     "output_type": "stream",
     "text": [
      "Training  LGBM Classifier\n",
      "Training  CatBoost Classifier\n",
      "Fold 0 ----------\n",
      "Pred != 0: 0.34536486397921007\n",
      "Good Pred | Pred != 0: 0.6243502582465635\n",
      "Good Pred: 0.2156286420147091\n",
      "Training  LGBM Classifier\n",
      "Training  CatBoost Classifier\n",
      "Fold 1 ----------\n",
      "Pred != 0: 0.34257805487563364\n",
      "Good Pred | Pred != 0: 0.6253535067873304\n",
      "Good Pred: 0.21423238796486\n",
      "Training  LGBM Classifier\n",
      "Training  CatBoost Classifier\n",
      "Fold 2 ----------\n",
      "Pred != 0: 0.34430961550243133\n",
      "Good Pred | Pred != 0: 0.624928102357415\n",
      "Good Pred: 0.21516875463934562\n",
      "Training  LGBM Classifier\n",
      "Training  CatBoost Classifier\n",
      "Fold 3 ----------\n",
      "Pred != 0: 0.34296037624826003\n",
      "Good Pred | Pred != 0: 0.62419199388491\n",
      "Good Pred: 0.21407312107392035\n",
      "Training  LGBM Classifier\n",
      "Training  CatBoost Classifier\n",
      "Fold 4 ----------\n",
      "Pred != 0: 0.33852085194414405\n",
      "Good Pred | Pred != 0: 0.6245286195286195\n",
      "Good Pred: 0.21141596034632848\n",
      "--------------------\n",
      "Mean Pred != 0: 0.3427467525099358\n",
      "Mean Good Pred | Pred != 0: 0.6246704961609677\n"
     ]
    }
   ],
   "source": [
    "cross_val_score(MetaModel, X_train, y_train)"
   ]
  },
  {
   "cell_type": "code",
   "execution_count": 105,
   "metadata": {},
   "outputs": [
    {
     "name": "stdout",
     "output_type": "stream",
     "text": [
      "Pred != 0: 0.3736419622737568\n",
      "Good Pred | Pred != 0: 0.6219245573994878\n",
      "Good Pred: 0.2323771120129823\n"
     ]
    }
   ],
   "source": [
    "pred_mean = np.mean([model.predict(X_test) for model in models], axis=0)\n",
    "pred = np.where(pred_mean > 0.2, 1, 0)\n",
    "pred = np.where(pred_mean < -0.2, -1, pred)\n",
    "pred_not_null, good_pred_not_null = evaluate(pred, y_test)\n",
    "print(\"Pred != 0:\", pred_not_null)\n",
    "print(\"Good Pred | Pred != 0:\", good_pred_not_null)\n",
    "print(\"Good Pred:\", pred_not_null*good_pred_not_null)"
   ]
  }
 ],
 "metadata": {
  "kernelspec": {
   "display_name": "Python 3 (ipykernel)",
   "language": "python",
   "name": "python3"
  },
  "language_info": {
   "codemirror_mode": {
    "name": "ipython",
    "version": 3
   },
   "file_extension": ".py",
   "mimetype": "text/x-python",
   "name": "python",
   "nbconvert_exporter": "python",
   "pygments_lexer": "ipython3",
   "version": "3.11.1"
  }
 },
 "nbformat": 4,
 "nbformat_minor": 4
}

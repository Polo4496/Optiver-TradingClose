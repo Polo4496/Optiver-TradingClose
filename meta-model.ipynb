{
 "cells": [
  {
   "cell_type": "markdown",
   "metadata": {
    "papermill": {
     "duration": 0.014282,
     "end_time": "2023-06-03T01:46:16.695936",
     "exception": false,
     "start_time": "2023-06-03T01:46:16.681654",
     "status": "completed"
    },
    "tags": []
   },
   "source": [
    "### Loading Libraries and Datasets"
   ]
  },
  {
   "cell_type": "code",
   "execution_count": 1,
   "metadata": {
    "_kg_hide-input": false,
    "_kg_hide-output": true,
    "execution": {
     "iopub.execute_input": "2023-09-24T09:43:44.600967Z",
     "iopub.status.busy": "2023-09-24T09:43:44.600229Z",
     "iopub.status.idle": "2023-09-24T09:43:50.495944Z",
     "shell.execute_reply": "2023-09-24T09:43:50.494498Z",
     "shell.execute_reply.started": "2023-09-24T09:43:44.600930Z"
    },
    "papermill": {
     "duration": 4.795021,
     "end_time": "2023-06-03T01:46:36.791162",
     "exception": false,
     "start_time": "2023-06-03T01:46:31.996141",
     "status": "completed"
    },
    "tags": []
   },
   "outputs": [],
   "source": [
    "import numpy as np\n",
    "import pandas as pd\n",
    "import plotly_express as px\n",
    "\n",
    "from sklearn import set_config\n",
    "from sklearn.base import clone\n",
    "from sklearn.preprocessing import FunctionTransformer\n",
    "from sklearn.pipeline import make_pipeline\n",
    "from sklearn.model_selection import TimeSeriesSplit\n",
    "from sklearn.metrics import mean_absolute_error\n",
    "from lightgbm import LGBMRegressor\n",
    "from catboost import CatBoostRegressor\n",
    "\n",
    "pd.set_option('display.max_rows', 100)\n",
    "set_config(transform_output = 'pandas')\n",
    "pd.options.mode.chained_assignment = None"
   ]
  },
  {
   "cell_type": "code",
   "execution_count": 7,
   "metadata": {
    "_kg_hide-output": true,
    "execution": {
     "iopub.execute_input": "2023-09-24T09:43:50.500527Z",
     "iopub.status.busy": "2023-09-24T09:43:50.499127Z",
     "iopub.status.idle": "2023-09-24T09:44:16.378234Z",
     "shell.execute_reply": "2023-09-24T09:44:16.376885Z",
     "shell.execute_reply.started": "2023-09-24T09:43:50.500463Z"
    }
   },
   "outputs": [],
   "source": [
    "data = pd.read_csv(\"train.csv\")\n",
    "seed = 42"
   ]
  },
  {
   "cell_type": "code",
   "execution_count": 8,
   "metadata": {
    "execution": {
     "iopub.execute_input": "2023-09-24T09:44:44.962033Z",
     "iopub.status.busy": "2023-09-24T09:44:44.961514Z",
     "iopub.status.idle": "2023-09-24T09:44:44.977754Z",
     "shell.execute_reply": "2023-09-24T09:44:44.976315Z",
     "shell.execute_reply.started": "2023-09-24T09:44:44.961984Z"
    }
   },
   "outputs": [],
   "source": [
    "from sklearn.preprocessing import OneHotEncoder\n",
    "from catboost import CatBoostClassifier\n",
    "\n",
    "class TestModel : \n",
    "    def __init__(self):\n",
    "        \n",
    "        self.firstLayerMethods = [\n",
    "            {\n",
    "                \"type\":\"LGBMR\",\n",
    "                \"model\":LGBMRegressor(random_state=seed, objective=\"mae\", verbose=0, n_estimators=100)\n",
    "            },\n",
    "            {\n",
    "                \"type\":\"catboost\",\n",
    "                \"model\":CatBoostRegressor(random_seed=seed, objective=\"MAE\", n_estimators=100, verbose=0)\n",
    "            }\n",
    "        ]\n",
    "        \n",
    "        self.firstLayerSelectionEncoder = OneHotEncoder(sparse=False)\n",
    "        \n",
    "        self.firstLayerSelector = CatBoostClassifier(random_seed=seed,objective=\"MultiLogloss\", n_estimators=100, verbose=0)\n",
    "        \n",
    "        return\n",
    "    \n",
    "    def fit(self,X,y):\n",
    "        firstLayerPredictions = []\n",
    "\n",
    "        for i,method in enumerate(self.firstLayerMethods):\n",
    "            type,model = method.values()\n",
    "            print(\"Training \",type)\n",
    "            model.fit(X,y)\n",
    "            firstLayerPredictions.append(model.predict(X))\n",
    "        \n",
    "        firstLayerPredictions = np.array(firstLayerPredictions).T\n",
    "        \n",
    "        firstLayerSelection = self.firstLayerSelectionEncoder.fit_transform(np.abs(firstLayerPredictions-np.repeat(y.values[:,np.newaxis],2,1)).argmin(axis=1).reshape(-1,1)).values\n",
    "        \n",
    "        print(\"Training first layer selector\")\n",
    "        \n",
    "        self.firstLayerSelector.fit(X,firstLayerSelection)\n",
    "        \n",
    "        return\n",
    "\n",
    "    def predict(self,X):\n",
    "        firstLayerPredictions = []\n",
    "        for i,method in enumerate(self.firstLayerMethods):\n",
    "            type,model = method.values()\n",
    "            firstLayerPredictions.append(model.predict(X))\n",
    "        \n",
    "        firstLayerPredictions = np.array(firstLayerPredictions).T\n",
    "        \n",
    "        firstLayerSelection = self.firstLayerSelector.predict(X)\n",
    "        \n",
    "        return (firstLayerSelection*firstLayerPredictions).sum(axis=1)"
   ]
  },
  {
   "cell_type": "code",
   "execution_count": 9,
   "metadata": {},
   "outputs": [
    {
     "data": {
      "text/html": [
       "<div>\n",
       "<style scoped>\n",
       "    .dataframe tbody tr th:only-of-type {\n",
       "        vertical-align: middle;\n",
       "    }\n",
       "\n",
       "    .dataframe tbody tr th {\n",
       "        vertical-align: top;\n",
       "    }\n",
       "\n",
       "    .dataframe thead th {\n",
       "        text-align: right;\n",
       "    }\n",
       "</style>\n",
       "<table border=\"1\" class=\"dataframe\">\n",
       "  <thead>\n",
       "    <tr style=\"text-align: right;\">\n",
       "      <th></th>\n",
       "      <th>stock_id</th>\n",
       "      <th>date_id</th>\n",
       "      <th>seconds_in_bucket</th>\n",
       "      <th>reference_price</th>\n",
       "      <th>matched_size</th>\n",
       "      <th>far_price</th>\n",
       "      <th>near_price</th>\n",
       "      <th>bid_price</th>\n",
       "      <th>bid_size</th>\n",
       "      <th>ask_price</th>\n",
       "      <th>ask_size</th>\n",
       "      <th>wap</th>\n",
       "      <th>target</th>\n",
       "      <th>imbalance_auction</th>\n",
       "      <th>imbalance_auction_proportion_matched</th>\n",
       "      <th>imbalance_order_book</th>\n",
       "      <th>spread</th>\n",
       "      <th>mid_price</th>\n",
       "      <th>bef_300</th>\n",
       "      <th>aft_300</th>\n",
       "    </tr>\n",
       "  </thead>\n",
       "  <tbody>\n",
       "    <tr>\n",
       "      <th>0</th>\n",
       "      <td>0</td>\n",
       "      <td>0</td>\n",
       "      <td>0</td>\n",
       "      <td>0.999812</td>\n",
       "      <td>13380276.64</td>\n",
       "      <td>NaN</td>\n",
       "      <td>NaN</td>\n",
       "      <td>0.999812</td>\n",
       "      <td>60651.50</td>\n",
       "      <td>1.000026</td>\n",
       "      <td>8493.03</td>\n",
       "      <td>1.0</td>\n",
       "      <td>-3.029704</td>\n",
       "      <td>3180602.69</td>\n",
       "      <td>0.237708</td>\n",
       "      <td>0.877170</td>\n",
       "      <td>0.000214</td>\n",
       "      <td>0.999919</td>\n",
       "      <td>1</td>\n",
       "      <td>0</td>\n",
       "    </tr>\n",
       "    <tr>\n",
       "      <th>1</th>\n",
       "      <td>1</td>\n",
       "      <td>0</td>\n",
       "      <td>0</td>\n",
       "      <td>0.999896</td>\n",
       "      <td>1642214.25</td>\n",
       "      <td>NaN</td>\n",
       "      <td>NaN</td>\n",
       "      <td>0.999896</td>\n",
       "      <td>3233.04</td>\n",
       "      <td>1.000660</td>\n",
       "      <td>20605.09</td>\n",
       "      <td>1.0</td>\n",
       "      <td>-5.519986</td>\n",
       "      <td>-166603.91</td>\n",
       "      <td>0.101451</td>\n",
       "      <td>0.135625</td>\n",
       "      <td>0.000764</td>\n",
       "      <td>1.000278</td>\n",
       "      <td>1</td>\n",
       "      <td>0</td>\n",
       "    </tr>\n",
       "    <tr>\n",
       "      <th>2</th>\n",
       "      <td>2</td>\n",
       "      <td>0</td>\n",
       "      <td>0</td>\n",
       "      <td>0.999561</td>\n",
       "      <td>1819368.03</td>\n",
       "      <td>NaN</td>\n",
       "      <td>NaN</td>\n",
       "      <td>0.999403</td>\n",
       "      <td>37956.00</td>\n",
       "      <td>1.000298</td>\n",
       "      <td>18995.00</td>\n",
       "      <td>1.0</td>\n",
       "      <td>-8.389950</td>\n",
       "      <td>-302879.87</td>\n",
       "      <td>0.166475</td>\n",
       "      <td>0.666468</td>\n",
       "      <td>0.000895</td>\n",
       "      <td>0.999850</td>\n",
       "      <td>1</td>\n",
       "      <td>0</td>\n",
       "    </tr>\n",
       "    <tr>\n",
       "      <th>3</th>\n",
       "      <td>3</td>\n",
       "      <td>0</td>\n",
       "      <td>0</td>\n",
       "      <td>1.000171</td>\n",
       "      <td>18389745.62</td>\n",
       "      <td>NaN</td>\n",
       "      <td>NaN</td>\n",
       "      <td>0.999999</td>\n",
       "      <td>2324.90</td>\n",
       "      <td>1.000214</td>\n",
       "      <td>479032.40</td>\n",
       "      <td>1.0</td>\n",
       "      <td>-4.010200</td>\n",
       "      <td>-11917682.27</td>\n",
       "      <td>0.648061</td>\n",
       "      <td>0.004830</td>\n",
       "      <td>0.000215</td>\n",
       "      <td>1.000107</td>\n",
       "      <td>1</td>\n",
       "      <td>0</td>\n",
       "    </tr>\n",
       "    <tr>\n",
       "      <th>4</th>\n",
       "      <td>4</td>\n",
       "      <td>0</td>\n",
       "      <td>0</td>\n",
       "      <td>0.999532</td>\n",
       "      <td>17860614.95</td>\n",
       "      <td>NaN</td>\n",
       "      <td>NaN</td>\n",
       "      <td>0.999394</td>\n",
       "      <td>16485.54</td>\n",
       "      <td>1.000016</td>\n",
       "      <td>434.10</td>\n",
       "      <td>1.0</td>\n",
       "      <td>-7.349849</td>\n",
       "      <td>-447549.96</td>\n",
       "      <td>0.025058</td>\n",
       "      <td>0.974343</td>\n",
       "      <td>0.000622</td>\n",
       "      <td>0.999705</td>\n",
       "      <td>1</td>\n",
       "      <td>0</td>\n",
       "    </tr>\n",
       "  </tbody>\n",
       "</table>\n",
       "</div>"
      ],
      "text/plain": [
       "   stock_id  date_id  seconds_in_bucket  reference_price  matched_size  \\\n",
       "0         0        0                  0         0.999812   13380276.64   \n",
       "1         1        0                  0         0.999896    1642214.25   \n",
       "2         2        0                  0         0.999561    1819368.03   \n",
       "3         3        0                  0         1.000171   18389745.62   \n",
       "4         4        0                  0         0.999532   17860614.95   \n",
       "\n",
       "   far_price  near_price  bid_price  bid_size  ask_price   ask_size  wap  \\\n",
       "0        NaN         NaN   0.999812  60651.50   1.000026    8493.03  1.0   \n",
       "1        NaN         NaN   0.999896   3233.04   1.000660   20605.09  1.0   \n",
       "2        NaN         NaN   0.999403  37956.00   1.000298   18995.00  1.0   \n",
       "3        NaN         NaN   0.999999   2324.90   1.000214  479032.40  1.0   \n",
       "4        NaN         NaN   0.999394  16485.54   1.000016     434.10  1.0   \n",
       "\n",
       "     target  imbalance_auction  imbalance_auction_proportion_matched  \\\n",
       "0 -3.029704         3180602.69                              0.237708   \n",
       "1 -5.519986         -166603.91                              0.101451   \n",
       "2 -8.389950         -302879.87                              0.166475   \n",
       "3 -4.010200       -11917682.27                              0.648061   \n",
       "4 -7.349849         -447549.96                              0.025058   \n",
       "\n",
       "   imbalance_order_book    spread  mid_price  bef_300  aft_300  \n",
       "0              0.877170  0.000214   0.999919        1        0  \n",
       "1              0.135625  0.000764   1.000278        1        0  \n",
       "2              0.666468  0.000895   0.999850        1        0  \n",
       "3              0.004830  0.000215   1.000107        1        0  \n",
       "4              0.974343  0.000622   0.999705        1        0  "
      ]
     },
     "metadata": {},
     "output_type": "display_data"
    }
   ],
   "source": [
    "data['imbalance_auction'] = data['imbalance_size'] * data['imbalance_buy_sell_flag']\n",
    "data['imbalance_auction_proportion_matched'] = data['imbalance_size'] / data['matched_size']\n",
    "data['imbalance_order_book'] = data['bid_size']/(data['bid_size']+data['ask_size'])\n",
    "\n",
    "data['spread'] = data['ask_price'] - data['bid_price']\n",
    "data['mid_price'] = (data['ask_price'] + data['bid_price']) / 2\n",
    "\n",
    "data['bef_300'] = np.where(data['seconds_in_bucket'] <= 300, 1, 0)\n",
    "data['aft_300'] = np.where(data['seconds_in_bucket'] > 300, 1, 0)\n",
    "\n",
    "data.drop(columns=['imbalance_size', 'imbalance_buy_sell_flag', 'row_id', 'time_id'], inplace=True)\n",
    "display(data.head())"
   ]
  },
  {
   "cell_type": "code",
   "execution_count": 14,
   "metadata": {
    "execution": {
     "iopub.execute_input": "2023-09-24T09:44:16.976121Z",
     "iopub.status.busy": "2023-09-24T09:44:16.975307Z",
     "iopub.status.idle": "2023-09-24T09:44:21.096939Z",
     "shell.execute_reply": "2023-09-24T09:44:21.095642Z",
     "shell.execute_reply.started": "2023-09-24T09:44:16.976089Z"
    }
   },
   "outputs": [],
   "source": [
    "from sklearn.model_selection import train_test_split\n",
    "    \n",
    "X = data[~data.target.isna()]\n",
    "y = X.pop('target')\n",
    "\n",
    "X_train, X_val, y_train, y_val = train_test_split(X, y, test_size=0.33, random_state=42)\n",
    "\n",
    "X_train_bef = X_train[X_train['bef_300'] == 1].drop(columns=['far_price', 'near_price'])\n",
    "X_train_aft = X_train[X_train['aft_300'] == 1]\n",
    "\n",
    "mu_1 = X_train_bef.mean()\n",
    "mu_2 = X_train_aft.mean()\n",
    "X_train_bef.fillna(mu_1, inplace=True)\n",
    "X_train_aft.fillna(mu_2, inplace=True)\n",
    "\n",
    "y_train_bef = y_train[y_train.index.isin(X_train_bef.index)]\n",
    "y_train_aft = y_train[y_train.index.isin(X_train_aft.index)]"
   ]
  },
  {
   "cell_type": "code",
   "execution_count": 15,
   "metadata": {
    "execution": {
     "iopub.execute_input": "2023-09-24T09:44:47.248508Z",
     "iopub.status.busy": "2023-09-24T09:44:47.248065Z"
    }
   },
   "outputs": [
    {
     "name": "stdout",
     "output_type": "stream",
     "text": [
      "Training  LGBMR\n",
      "Training  catboost\n"
     ]
    },
    {
     "name": "stderr",
     "output_type": "stream",
     "text": [
      "C:\\Users\\polol\\AppData\\Local\\Programs\\Python\\Python311\\Lib\\site-packages\\sklearn\\preprocessing\\_encoders.py:972: FutureWarning: `sparse` was renamed to `sparse_output` in version 1.2 and will be removed in 1.4. `sparse_output` is ignored unless you leave `sparse` to its default value.\n",
      "  warnings.warn(\n"
     ]
    },
    {
     "name": "stdout",
     "output_type": "stream",
     "text": [
      "Training first layer selector\n"
     ]
    }
   ],
   "source": [
    "model_bef = TestModel()\n",
    "model_bef.fit(X_train_bef, y_train_bef)"
   ]
  },
  {
   "cell_type": "code",
   "execution_count": 16,
   "metadata": {},
   "outputs": [
    {
     "name": "stdout",
     "output_type": "stream",
     "text": [
      "Training  LGBMR\n",
      "Training  catboost\n"
     ]
    },
    {
     "name": "stderr",
     "output_type": "stream",
     "text": [
      "C:\\Users\\polol\\AppData\\Local\\Programs\\Python\\Python311\\Lib\\site-packages\\sklearn\\preprocessing\\_encoders.py:972: FutureWarning: `sparse` was renamed to `sparse_output` in version 1.2 and will be removed in 1.4. `sparse_output` is ignored unless you leave `sparse` to its default value.\n",
      "  warnings.warn(\n"
     ]
    },
    {
     "name": "stdout",
     "output_type": "stream",
     "text": [
      "Training first layer selector\n"
     ]
    }
   ],
   "source": [
    "model_aft = TestModel()\n",
    "model_aft.fit(X_train_aft, y_train_aft)"
   ]
  },
  {
   "cell_type": "code",
   "execution_count": 20,
   "metadata": {},
   "outputs": [
    {
     "name": "stdout",
     "output_type": "stream",
     "text": [
      "MAE: 6.263022710259568\n"
     ]
    }
   ],
   "source": [
    "X_test_bef = X_val[X_val['bef_300'] == 1].drop(columns=['far_price', 'near_price'])\n",
    "X_test_aft = X_val[X_val['aft_300'] == 1]\n",
    "\n",
    "X_test_bef.fillna(mu_1, inplace=True)\n",
    "X_test_aft.fillna(mu_2, inplace=True)\n",
    "\n",
    "pred_bef = model_bef.predict(X_test_bef)\n",
    "pred_aft = model_aft.predict(X_test_aft)\n",
    "diff_bef = abs(pred_bef - y_val[y_val.index.isin(X_test_bef.index)])\n",
    "diff_aft = abs(pred_aft - y_val[y_val.index.isin(X_test_aft.index)])\n",
    "print(\"MAE:\", (sum(diff_bef) + sum(diff_aft)) / len(X_val))"
   ]
  },
  {
   "cell_type": "code",
   "execution_count": 22,
   "metadata": {},
   "outputs": [
    {
     "data": {
      "text/plain": [
       "5.555388400862184"
      ]
     },
     "execution_count": 22,
     "metadata": {},
     "output_type": "execute_result"
    }
   ],
   "source": [
    "diff_aft.mean()"
   ]
  }
 ],
 "metadata": {
  "kernelspec": {
   "display_name": "Python 3 (ipykernel)",
   "language": "python",
   "name": "python3"
  },
  "language_info": {
   "codemirror_mode": {
    "name": "ipython",
    "version": 3
   },
   "file_extension": ".py",
   "mimetype": "text/x-python",
   "name": "python",
   "nbconvert_exporter": "python",
   "pygments_lexer": "ipython3",
   "version": "3.11.1"
  }
 },
 "nbformat": 4,
 "nbformat_minor": 4
}
